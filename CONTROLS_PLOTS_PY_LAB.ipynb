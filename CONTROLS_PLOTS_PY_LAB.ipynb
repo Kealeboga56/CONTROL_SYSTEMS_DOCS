{
 "cells": [
  {
   "cell_type": "markdown",
   "id": "9572fc45-8b70-4d11-b513-5cfc3aca1db4",
   "metadata": {},
   "source": [
    "# OPEN  LOOP Velocity/Altitude STEP RESPONSE"
   ]
  },
  {
   "cell_type": "code",
   "execution_count": null,
   "id": "b0fa072c-db3f-4343-a64d-1b3c4b6a67d4",
   "metadata": {},
   "outputs": [],
   "source": [
    "# First, install the necessary packages if you haven't already\n",
    "# You can skip this if already installed\n",
    "# !pip install control matplotlib\n",
    "\n",
    "import pandas as pd\n",
    "import numpy as np\n",
    "import matplotlib.pyplot as plt\n",
    "import control as ctrl\n",
    "\n",
    "#This is where I defined my open tranfer function \n",
    "#-------------------------------------------------------------------------------------------------------------------------------------------\n",
    "numerator = [24.344]           # luckily for us this thing doesnt have zeroes, so just put your \"A\" in this spot/array i guess\n",
    "denominator = [14.143, 1.0, 0] #this is for position cos you are integrating(1/s) velocity. there for A/s(Ts+1)\n",
    "#denominator = [14.143, 1.0]  # this is for velocity    A/(Ts+1)\n",
    "\n",
    "# you can switch(comment the other one) between the dinominators to see how your step changes. this correlates to what you saw in the lab\n",
    "\n",
    "#-------------------------------------------------------------------------------------------------------------------------------------------\n",
    "\n",
    "# Create the transfer function system\n",
    "sys = ctrl.TransferFunction(numerator, denominator)\n",
    "\n",
    "\n",
    "\n",
    "\n",
    "# Define the time vector (extending it to 10 seconds)\n",
    "t_1 = np.linspace(0, 150, 1000)  # 1000 points from 0 to 50 seconds\n",
    "# Step response\n",
    "t_1, y_1 = ctrl.step_response(sys, T=t_1)\n",
    "y_1 *=2.5\n",
    "# Plot the step response\n",
    "plt.figure()\n",
    "plt.plot(t_1, y_1, lw=2,label='CSV Step Response', linestyle='--')\n",
    "plt.title('CSV position Step Response')\n",
    "plt.xlabel('Time (s)')\n",
    "plt.ylabel('Position(m)')\n",
    "plt.grid()\n",
    "plt.show()"
   ]
  },
  {
   "cell_type": "code",
   "execution_count": null,
   "id": "c3a1b2f3-938a-41de-841e-fe53c26869a2",
   "metadata": {},
   "outputs": [],
   "source": [
    "# Generate the root locus plot\n",
    "plt.figure()\n",
    "# Use the new parameter 'gains' instead of 'k'\n",
    "ctrl.root_locus(sys, gains=np.linspace(0, 10, 100), plot=True)\n",
    "\n",
    "# Set the limits for the y-axis\n",
    "plt.title('Root Locus Plot')\n",
    "plt.xlabel('Real Axis')\n",
    "plt.ylabel('Imaginary Axis')\n",
    "plt.ylim(-5, 2)  # Adjust the y-axis limits as needed\n",
    "plt.grid()\n",
    "plt.show()"
   ]
  },
  {
   "cell_type": "markdown",
   "id": "6d1fe50d-b34a-44e2-b709-3924d0cdb2e3",
   "metadata": {},
   "source": [
    "# CLOSED LOOP SYSTEMS Gcl(s)"
   ]
  },
  {
   "cell_type": "code",
   "execution_count": null,
   "id": "12dce400-dcc3-4923-bf93-1a840c5f06f0",
   "metadata": {},
   "outputs": [],
   "source": [
    "K = 0.0049 # this is your gain value you have calculated\n",
    "M = 0.66  # this was my sensor value\n",
    "A = 24.344 # This is your value of A\n",
    "T = 14.143 # this is your tao value\n",
    "\n",
    "#This is where I defined my closed lop tranfer function now\n",
    "#-------------------------------------------------------------------------------------------------------------------------------------------\n",
    "numerator = [K*A]           \n",
    "denominator = [T, 1, K*A*M]\n",
    "\n",
    "# now this will be your closed loop transfer function coefficients ( Gcl(s) = K*A/(Ts^2+s*K*A*M)\n",
    "#-------------------------------------------------------------------------------------------------------------------------------------------\n",
    "\n",
    "# Create the transfer function system\n",
    "sys_cl = ctrl.TransferFunction(numerator, denominator)\n",
    "\n",
    "t_2 = np.linspace(0, 200, 1000)  # 1000 points from 0 to 200 seconds ( I needed more time to see the whole response)\n",
    "\n",
    "# Step response\n",
    "t_2, y_2 = ctrl.step_response(sys_cl, T=t_2)\n",
    "\n",
    "y_2= y_2*M # multiplied by my sensor value\n",
    "\n",
    "# Q = 5 \n",
    "# y = y*Q # where Q is the number your want to track for example for this lab its 5 volts( or meters or what ever) \n",
    "# Plot the step response\n",
    "\n",
    "plt.figure()\n",
    "plt.plot(t_2, y_2, lw=2)\n",
    "plt.title('Step Response')\n",
    "plt.xlabel('Time (s)')\n",
    "plt.ylabel('Amplitude')\n",
    "plt.grid()\n",
    "plt.show()\n"
   ]
  },
  {
   "cell_type": "markdown",
   "id": "26381816-e66e-4136-8fbd-5ddb4b59f633",
   "metadata": {},
   "source": [
    "# STEP VALIDATION WITH .csv data and my tranfer function that i obtained(VELOCITY)\n",
    "from calculations "
   ]
  },
  {
   "cell_type": "code",
   "execution_count": null,
   "id": "a27a85ba-e533-4340-8ded-40ec0b185594",
   "metadata": {},
   "outputs": [],
   "source": [
    "csv_data = pd.read_csv('plot_data.csv')\n",
    "\n",
    "#This is where I defined my open tranfer function \n",
    "#-------------------------------------------------------------------------------------------------------------------------------------------\n",
    "numerator = [24.344*2.5] # luckily for us this thing doesnt have zeroes, so just put your \"A\" in this spot(multiply by 2.5 to bring it back)\n",
    "#denominator = [14.143, 1.0, 0] #this is for position cos you are integrating(1/s) velocity. there for A/s(Ts+1)\n",
    "denominator = [14.143, 1.0]  # this is for velocity    A/(Ts+1)\n",
    "\n",
    "sys_openloop = ctrl.TransferFunction(numerator, denominator)"
   ]
  },
  {
   "cell_type": "code",
   "execution_count": null,
   "id": "8f9db200-bec0-4989-8b39-a9f60e6b1ab2",
   "metadata": {},
   "outputs": [],
   "source": [
    "sys_openloop"
   ]
  },
  {
   "cell_type": "code",
   "execution_count": null,
   "id": "13dbdfba-56fe-4ab7-a9d4-512802a15ddb",
   "metadata": {},
   "outputs": [],
   "source": [
    "t_3 = np.linspace(0, 250, 1000)  # 1000 points from 0 to 50 seconds\n",
    "t_3, y_3 = ctrl.step_response(sys_openloop, T=t_3)\n",
    "\n",
    "# Plot the step response\n",
    "plt.figure()\n",
    "plt.plot(t_3, y_3, lw=2, label='Original Step Response')\n",
    "\n",
    "t_csv = csv_data['Time(s)']  # Time data from CSV\n",
    "y_csv = csv_data['Velocity']  # Amplitude data from CSV\n",
    "\n",
    "plt.plot(t_csv, y_csv, lw=3, label='CSV Step Response', linestyle='--')  # Dashed line for clarity\n",
    "\n",
    "# Add titles and labels\n",
    "plt.title('Step Response Comparison')\n",
    "plt.xlabel('Time (s)')\n",
    "plt.ylabel('Amplitude')\n",
    "plt.legend()\n",
    "plt.grid()\n",
    "plt.show()\n",
    "plt.savefig('csv_velocity_graph.png', dpi=300)  "
   ]
  },
  {
   "cell_type": "markdown",
   "id": "0d7ad754-b51a-4a7d-a519-4ca90d7ead6a",
   "metadata": {},
   "source": [
    "# STEP VALIDATION WITH .csv data and my tranfer function that i obtained(ALTITUDE)\n",
    "from calculations "
   ]
  },
  {
   "cell_type": "markdown",
   "id": "e94497d8-e99b-48bb-b593-49d476794cb6",
   "metadata": {},
   "source": [
    "# WITH DEADTIME"
   ]
  },
  {
   "cell_type": "code",
   "execution_count": null,
   "id": "9296598e-066c-464a-a116-48214827ce7e",
   "metadata": {},
   "outputs": [],
   "source": [
    "csv_data = pd.read_csv('step_deadtime_fixed.csv')\n",
    "\n",
    "\n",
    "# Plot the step response\n",
    "plt.figure()\n",
    "\n",
    "y_2 *=5   # make the step go up to 5 meters\n",
    "\n",
    "plt.plot(t_2, y_2, lw=2, label='Step response from calculation')\n",
    "\n",
    "t_csv = csv_data['Time']  # Time data from CSV\n",
    "y_csv = csv_data['Output(m)']  # Amplitude data from CSV\n",
    "\n",
    "plt.plot(t_csv, y_csv, lw=1, label='CSV Step (with deadtime)', linestyle='--')  # Dashed line for clarity\n",
    "\n",
    "# Add titles and labels\n",
    "plt.title('Step Response Comparison')\n",
    "plt.xlabel('Time (s)')\n",
    "plt.ylabel('Amplitude')\n",
    "plt.legend()\n",
    "plt.grid()\n",
    "plt.show()"
   ]
  },
  {
   "cell_type": "markdown",
   "id": "fcb7562e-a701-4faf-ad6e-f010d7a58bd6",
   "metadata": {},
   "source": [
    "# WITHOUT DEADTIME"
   ]
  },
  {
   "cell_type": "code",
   "execution_count": null,
   "id": "70bf9226-c344-4718-8d21-9f7d038af52b",
   "metadata": {},
   "outputs": [],
   "source": [
    "csv_data = pd.read_csv('step_nodeadtime_fixed.csv')\n",
    "\n",
    "\n",
    "# Plot the step response\n",
    "plt.figure()\n",
    "\n",
    "plt.plot(t_2, y_2, lw=2, label='Step response from calculation')\n",
    "\n",
    "t_csv = csv_data['Time(s)']  # Time data from CSV\n",
    "y_csv = csv_data['Output(m)']  # Amplitude data from CSV\n",
    "\n",
    "plt.plot(t_csv, y_csv, lw=1, label='CSV Step (From the controller)', linestyle='--')  # Dashed line for clarity\n",
    "\n",
    "# Add titles and labels\n",
    "plt.title('Step Response Comparison(No dead time)')\n",
    "plt.xlabel('Time (s)')\n",
    "plt.ylabel('Amplitude')\n",
    "plt.legend()\n",
    "plt.grid()\n",
    "plt.show()"
   ]
  },
  {
   "cell_type": "markdown",
   "id": "f5f7b6e7-9d0f-4c05-a9f9-f23d5faf4ef8",
   "metadata": {},
   "source": [
    "# RESTART KERNEL AND CLEAR OUTPUT CELLS FOR IT TO WORK PROPERLY or run the cells again from closed loop section of your step comparisons look messed up"
   ]
  },
  {
   "cell_type": "code",
   "execution_count": null,
   "id": "d3a06ac0-e253-4c34-bd94-2aea4566672b",
   "metadata": {},
   "outputs": [],
   "source": []
  },
  {
   "cell_type": "code",
   "execution_count": null,
   "id": "f2afd3f1-995b-40c4-9238-bb036a2bcf66",
   "metadata": {},
   "outputs": [],
   "source": []
  },
  {
   "cell_type": "code",
   "execution_count": null,
   "id": "1d1ba77a-a74f-4059-a688-d76f9ff3d453",
   "metadata": {},
   "outputs": [],
   "source": []
  },
  {
   "cell_type": "code",
   "execution_count": null,
   "id": "a6188a0e-49d2-432f-88c1-b267a9f8de0c",
   "metadata": {},
   "outputs": [],
   "source": []
  },
  {
   "cell_type": "code",
   "execution_count": null,
   "id": "53204619-bece-4dd2-8ed1-3cb5cd31ef79",
   "metadata": {},
   "outputs": [],
   "source": []
  },
  {
   "cell_type": "code",
   "execution_count": null,
   "id": "27a4819c-fafe-4ca6-abae-38f44a4f4efa",
   "metadata": {},
   "outputs": [],
   "source": []
  }
 ],
 "metadata": {
  "kernelspec": {
   "display_name": "Python 3 (ipykernel)",
   "language": "python",
   "name": "python3"
  },
  "language_info": {
   "codemirror_mode": {
    "name": "ipython",
    "version": 3
   },
   "file_extension": ".py",
   "mimetype": "text/x-python",
   "name": "python",
   "nbconvert_exporter": "python",
   "pygments_lexer": "ipython3",
   "version": "3.12.6"
  }
 },
 "nbformat": 4,
 "nbformat_minor": 5
}
